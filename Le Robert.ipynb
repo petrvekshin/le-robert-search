{
 "cells": [
  {
   "cell_type": "code",
   "execution_count": 80,
   "id": "a1747674-78b0-493c-bbd5-e3685ae1339e",
   "metadata": {
    "tags": []
   },
   "outputs": [],
   "source": [
    "import os\n",
    "from collections import defaultdict"
   ]
  },
  {
   "cell_type": "code",
   "execution_count": 81,
   "id": "861bc261-00d8-4e53-a435-f58c11bb5a02",
   "metadata": {
    "tags": []
   },
   "outputs": [],
   "source": [
    "import parser as lr"
   ]
  },
  {
   "cell_type": "markdown",
   "id": "bcd2f086-98b5-4a39-8547-f28a1d6630d2",
   "metadata": {
    "tags": []
   },
   "source": [
    "# Terminology"
   ]
  },
  {
   "cell_type": "markdown",
   "id": "2f1fe472-338f-4682-ab37-1e9beb7ede40",
   "metadata": {},
   "source": [
    "If we look up French words \"pêche\" and \"péché\", they will be on the same page and have the same address \"https://dictionnaire.lerobert.com/definition/peche\". The last part of the address \"peche\" is going to be without any diacritics. To give the last part a separate term, we are going to call it `word_path`. We are going to use `word_path` as the `filename`, when saving the HTML of a page."
   ]
  },
  {
   "cell_type": "markdown",
   "id": "a460d946-0f2c-4e55-b511-08a6da149bed",
   "metadata": {
    "tags": []
   },
   "source": [
    "# Discovering Definition Pages"
   ]
  },
  {
   "cell_type": "markdown",
   "id": "ff8fcbff-e679-40bf-80c6-88d7c6c0f1be",
   "metadata": {},
   "source": [
    "`parser.py` provides functions needed to discover valid `word_path`s when scraping the dictionary:\n",
    "1. The dictionary has \"Explorer le dictionnaire\" section, where it lists valid (and also not valid) links to the definitions. To find all the links in that section, you can use `get_explored_links()` function. \n",
    "2. You can also find definition pages via the API used by the built-in search. For this purpose, call `get_suggested_word_paths()` function with a search term as an argument.\n",
    "3. When you have saved some of the definition pages as HTML files, you can go over these files and extract all definition links via `find_word_paths_html_file()` function.\n",
    "4. The last option is to request a page and check its status code using `word_path` from a wordlist. Do not forget to remove diacritics and replace white spaces and `'` with `-` before that."
   ]
  },
  {
   "cell_type": "markdown",
   "id": "7acc502c-e225-49d0-bea1-f501677434cf",
   "metadata": {},
   "source": [
    "All four approaches were taken to compile a list of valid valid definition pages called `definition_word_paths.txt`."
   ]
  },
  {
   "cell_type": "markdown",
   "id": "781a4d82-9296-4bdf-aed2-9c6b6118af9d",
   "metadata": {
    "tags": []
   },
   "source": [
    "# Scraping the Content"
   ]
  },
  {
   "cell_type": "markdown",
   "id": "f4f0a761-8bb8-470d-86b3-0a886ce6753a",
   "metadata": {},
   "source": [
    "Let's use `definition_word_paths.txt` to download definition pages."
   ]
  },
  {
   "cell_type": "code",
   "execution_count": 82,
   "id": "fbf52742-84f3-429f-8549-f385a4379781",
   "metadata": {
    "tags": []
   },
   "outputs": [],
   "source": [
    "with open('definition_word_paths.txt', 'r', encoding='utf-8') as f:\n",
    "    word_paths = [line.strip() for line in f]"
   ]
  },
  {
   "cell_type": "markdown",
   "id": "4798f23b-47f8-4754-9aed-69ce689d735a",
   "metadata": {},
   "source": [
    "## HTML"
   ]
  },
  {
   "cell_type": "code",
   "execution_count": 83,
   "id": "d45ca2b4-052a-4ece-8735-3abe65ff2e01",
   "metadata": {
    "tags": []
   },
   "outputs": [],
   "source": [
    "html_path = './assets/html'\n",
    "os.makedirs(html_path, exist_ok=True)"
   ]
  },
  {
   "cell_type": "code",
   "execution_count": 84,
   "id": "b5343a1b-8200-49ed-9406-eb7a7959c461",
   "metadata": {
    "tags": []
   },
   "outputs": [
    {
     "name": "stderr",
     "output_type": "stream",
     "text": [
      "100% (1 of 1) |##########################| Elapsed Time: 0:02:09 Time:  0:02:09\n"
     ]
    }
   ],
   "source": [
    "results = lr.execute_async(lr.download_html, word_paths[:10], html_path=html_path)"
   ]
  },
  {
   "cell_type": "markdown",
   "id": "f7860065-8f0c-4997-b8d5-3a9bea743ddb",
   "metadata": {},
   "source": [
    "We saved the first 10 pages from `definition_word_paths.txt`. `execute_async()` function is based on `concurrent.futures` module and will come in handy when downloading 51000+ pages."
   ]
  },
  {
   "cell_type": "markdown",
   "id": "cec8a61e-730a-4c25-895c-5ab539b07ed3",
   "metadata": {},
   "source": [
    "## Audio (MP3)"
   ]
  },
  {
   "cell_type": "code",
   "execution_count": 85,
   "id": "b6efcfb2-0d0f-4885-af5c-0c627e61bced",
   "metadata": {
    "tags": []
   },
   "outputs": [],
   "source": [
    "audio_path = './assets/mp3'\n",
    "os.makedirs(audio_path, exist_ok=True)"
   ]
  },
  {
   "cell_type": "code",
   "execution_count": 86,
   "id": "f7fd7721-dd46-445f-b349-91297e7aaa91",
   "metadata": {
    "tags": []
   },
   "outputs": [
    {
     "name": "stderr",
     "output_type": "stream",
     "text": [
      "100% (1 of 1) |##########################| Elapsed Time: 0:00:00 Time:  0:00:00\n"
     ]
    }
   ],
   "source": [
    "results = lr.execute_async(lr.download_audio, lr.list_html_files(html_path)[:10], html_path=html_path, audio_path=audio_path)"
   ]
  },
  {
   "cell_type": "markdown",
   "id": "39cfaf6a-3f57-4afa-9e32-355a56c1796f",
   "metadata": {
    "tags": []
   },
   "source": [
    "`list_html_files()` function downloads all `.mp3` files required by the HTML files saved above."
   ]
  },
  {
   "cell_type": "markdown",
   "id": "3f40a4a7-eebb-4910-aec9-2ef4cbf04bad",
   "metadata": {
    "tags": []
   },
   "source": [
    "# Analysing the Structure of HTML"
   ]
  },
  {
   "cell_type": "markdown",
   "id": "6bac2609-893b-432b-8f6e-9e1dd41233b0",
   "metadata": {},
   "source": [
    "To get definition tags, we can use `find_definitions()` function as shown below."
   ]
  },
  {
   "cell_type": "code",
   "execution_count": 87,
   "id": "8a9eefeb-7bf9-40f3-96de-147f27894f6f",
   "metadata": {
    "tags": []
   },
   "outputs": [
    {
     "data": {
      "text/plain": [
       "('de', 6)"
      ]
     },
     "execution_count": 87,
     "metadata": {},
     "output_type": "execute_result"
    }
   ],
   "source": [
    "html_file = lr.list_html_files(html_path)[0]\n",
    "definition_tags = lr.find_definitions(lr.read_html_file(html_file, html_path=html_path))\n",
    "html_file, len(definition_tags)"
   ]
  },
  {
   "cell_type": "markdown",
   "id": "ebfc05e4-3d0a-4f7d-94ca-4cc0c53d0052",
   "metadata": {},
   "source": [
    "Now, we can find all strings in a defintion tag and index them by their parents."
   ]
  },
  {
   "cell_type": "code",
   "execution_count": 88,
   "id": "e47312ef-e2ca-4c71-86d2-c932579085b9",
   "metadata": {
    "tags": []
   },
   "outputs": [
    {
     "name": "stderr",
     "output_type": "stream",
     "text": [
      "100% (1 of 1) |##########################| Elapsed Time: 0:00:00 Time:  0:00:00\n"
     ]
    }
   ],
   "source": [
    "results = lr.execute_async(lr.index_strings_by_parents, lr.list_html_files(html_path)[:10], processes=True, html_path=html_path)\n",
    "string_parents = defaultdict(lambda: dict())\n",
    "for res_filename, res_parents in results:\n",
    "    for key, val in res_parents.items():\n",
    "        string_parents[key][res_filename] = val\n",
    "string_parents = dict(string_parents)"
   ]
  },
  {
   "cell_type": "code",
   "execution_count": 89,
   "id": "e4a48cab-d2c1-444f-83ea-a369048458e5",
   "metadata": {
    "tags": []
   },
   "outputs": [
    {
     "name": "stdout",
     "output_type": "stream",
     "text": [
      "(('h3', None), ('span', 'notBold'))\n",
      "(('h3', None),)\n",
      "(('h3', None), ('span', 'd_sound_cont'), ('sound', 'd_sound'), ('span', 'audioPlayer'), ('span', 'audioPlayer-play-pause-wrapper'), ('span', 'audioPlayer-speaker'))\n",
      "(('h3', None), ('span', 'd_sound_cont'), ('sound', 'd_sound'), ('span', 'audioPlayer'), ('audio', None), ('span', None))\n",
      "(('h3', None), ('span', 'd_mtb'))\n"
     ]
    }
   ],
   "source": [
    "for key in list(string_parents.keys())[:5]:\n",
    "    print(key)"
   ]
  },
  {
   "cell_type": "markdown",
   "id": "f5082a41-bb37-49af-8c5d-4f2303bb8dcf",
   "metadata": {},
   "source": [
    "Each key is a tuple of tags also represented as tuples. After indexing, finding a page with and its content with a specific HTML structure becomes simple."
   ]
  },
  {
   "cell_type": "code",
   "execution_count": 90,
   "id": "8cbfb1f9-cb82-4c03-874e-34db7e7b656e",
   "metadata": {
    "tags": []
   },
   "outputs": [
    {
     "data": {
      "text/plain": [
       "{'de': {0: [(1, 0, 0)],\n",
       "  1: [(1, 0, 0)],\n",
       "  2: [(1, 0, 0)],\n",
       "  3: [(1, 0, 0)],\n",
       "  4: [(1, 0, 0)],\n",
       "  5: [(1, 0, 0)]},\n",
       " 'je': {0: [(1, 0, 0)]},\n",
       " 'est': {0: [(1, 0, 0)]},\n",
       " 'pas': {0: [(1, 0, 0)], 1: [(1, 0, 0)]},\n",
       " 'le': {0: [(1, 0, 0)], 1: [(1, 0, 0)], 2: [(1, 0, 0)]},\n",
       " 'que': {0: [(1, 0, 0)], 1: [(1, 0, 0)], 2: [(1, 0, 0)]},\n",
       " 'la': {0: [(1, 0, 0)], 1: [(1, 0, 0)], 2: [(1, 0, 0)]},\n",
       " 'vous': {0: [(1, 0, 0)]},\n",
       " 'tu': {0: [(1, 0, 0)], 1: [(1, 0, 0)]},\n",
       " 'un': {0: [(1, 0, 0)]}}"
      ]
     },
     "execution_count": 90,
     "metadata": {},
     "output_type": "execute_result"
    }
   ],
   "source": [
    "string_parents[(('h3', None), ('span', 'notBold'))]"
   ]
  },
  {
   "cell_type": "markdown",
   "id": "771a58ab-1394-47d4-91b6-7a32966d3ea8",
   "metadata": {},
   "source": [
    "Let's get a string now via found indices for `a-coup.html`."
   ]
  },
  {
   "cell_type": "code",
   "execution_count": 91,
   "id": "51e5ae0e-5bcb-438d-8b9f-3b26de1f431a",
   "metadata": {
    "tags": []
   },
   "outputs": [
    {
     "data": {
      "text/plain": [
       "'Définition de '"
      ]
     },
     "execution_count": 91,
     "metadata": {},
     "output_type": "execute_result"
    }
   ],
   "source": [
    "lr.get_content(definition_tags[0], (1, 0, 0))"
   ]
  },
  {
   "cell_type": "markdown",
   "id": "d140e927-d3c1-4d5b-bdcd-5bef45b560e5",
   "metadata": {},
   "source": [
    "The dictionary contains plenty of examples for which it uses tags with `class=\"d_xpl\"`. Let's find all possible combinations with no more than one parent and one child."
   ]
  },
  {
   "cell_type": "code",
   "execution_count": 92,
   "id": "378803a9-8411-4e68-8a16-c0716e30a349",
   "metadata": {
    "tags": []
   },
   "outputs": [
    {
     "data": {
      "text/plain": [
       "{(('div', 'd_dvl'), ('span', 'd_xpl')),\n",
       " (('div', 'd_dvl'), ('span', 'd_xpl'), ('span', 'd_gls')),\n",
       " (('div', 'd_dvl'), ('span', 'd_xpl'), ('span', 'd_lca')),\n",
       " (('div', 'd_dvl'), ('span', 'd_xpl'), ('span', 'd_mta')),\n",
       " (('div', 'd_dvl'), ('span', 'd_xpl'), ('span', 'd_x')),\n",
       " (('div', 'd_dvn'), ('span', 'd_xpl')),\n",
       " (('div', 'd_dvn'), ('span', 'd_xpl'), ('span', 'd_g')),\n",
       " (('div', 'd_dvn'), ('span', 'd_xpl'), ('span', 'd_gls')),\n",
       " (('div', 'd_dvn'), ('span', 'd_xpl'), ('span', 'd_lca')),\n",
       " (('div', 'd_dvn'), ('span', 'd_xpl'), ('span', 'd_lct')),\n",
       " (('div', 'd_dvn'), ('span', 'd_xpl'), ('span', 'd_mta')),\n",
       " (('div', 'd_dvn'), ('span', 'd_xpl'), ('span', 'd_mtb')),\n",
       " (('div', 'd_dvn'), ('span', 'd_xpl'), ('span', 'd_rm')),\n",
       " (('div', 'd_dvn'), ('span', 'd_xpl'), ('span', 'd_x')),\n",
       " (('div', 'd_dvr'), ('span', 'd_xpl')),\n",
       " (('div', 'd_dvr'), ('span', 'd_xpl'), ('span', 'd_gls')),\n",
       " (('div', 'd_dvr'), ('span', 'd_xpl'), ('span', 'd_lca')),\n",
       " (('div', 'd_dvr'), ('span', 'd_xpl'), ('span', 'd_mta')),\n",
       " (('div', 'd_dvr'), ('span', 'd_xpl'), ('span', 'd_mtb')),\n",
       " (('div', 'd_dvr'), ('span', 'd_xpl'), ('span', 'd_x')),\n",
       " (('div', 'd_ptma'), ('span', 'd_xpl')),\n",
       " (('div', 'd_ptma'), ('span', 'd_xpl'), ('span', 'd_gls')),\n",
       " (('div', 'd_ptma'), ('span', 'd_xpl'), ('span', 'd_mta')),\n",
       " (('span', 'd_dvt'), ('span', 'd_xpl')),\n",
       " (('span', 'd_dvt'), ('span', 'd_xpl'), ('span', 'd_gls')),\n",
       " (('span', 'd_dvt'), ('span', 'd_xpl'), ('span', 'd_lca')),\n",
       " (('span', 'd_dvt'), ('span', 'd_xpl'), ('span', 'd_mta')),\n",
       " (('span', 'd_dvt'), ('span', 'd_xpl'), ('span', 'd_mtb')),\n",
       " (('span', 'd_dvt'), ('span', 'd_xpl'), ('span', 'd_rm')),\n",
       " (('span', 'd_dvt'), ('span', 'd_xpl'), ('span', 'd_rvd'))}"
      ]
     },
     "execution_count": 92,
     "metadata": {},
     "output_type": "execute_result"
    }
   ],
   "source": [
    "tag_classes = set()\n",
    "for key in string_parents.keys():\n",
    "    for ind, tag in enumerate(key):  \n",
    "        if tag[1] == 'd_xpl':\n",
    "            tag_neighbors = key[ind-1:ind+2]\n",
    "            tag_classes.add(tag_neighbors)\n",
    "tag_classes"
   ]
  },
  {
   "cell_type": "markdown",
   "id": "079d6f46-1c7d-4e2f-9ede-c8db5224c248",
   "metadata": {},
   "source": [
    "The parent of an example tag (`class=\"d_xpl\"`) is a certain meaning in which the word is used."
   ]
  }
 ],
 "metadata": {
  "kernelspec": {
   "display_name": "Python 3 (ipykernel)",
   "language": "python",
   "name": "python3"
  },
  "language_info": {
   "codemirror_mode": {
    "name": "ipython",
    "version": 3
   },
   "file_extension": ".py",
   "mimetype": "text/x-python",
   "name": "python",
   "nbconvert_exporter": "python",
   "pygments_lexer": "ipython3",
   "version": "3.9.17"
  }
 },
 "nbformat": 4,
 "nbformat_minor": 5
}
